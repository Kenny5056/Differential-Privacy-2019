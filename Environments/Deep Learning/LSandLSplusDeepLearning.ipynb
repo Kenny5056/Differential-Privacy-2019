{
  "nbformat": 4,
  "nbformat_minor": 0,
  "metadata": {
    "colab": {
      "name": "LSandLSplusDeepLearning.ipynb",
      "provenance": []
    },
    "kernelspec": {
      "name": "python3",
      "display_name": "Python 3"
    }
  },
  "cells": [
    {
      "cell_type": "code",
      "metadata": {
        "id": "26oNi1PpDzzU",
        "colab_type": "code",
        "colab": {}
      },
      "source": [
        "from google.colab import drive\n",
        "drive.mount('/content/gdrive')"
      ],
      "execution_count": 0,
      "outputs": []
    },
    {
      "cell_type": "code",
      "metadata": {
        "id": "dIc6BF8mD1O-",
        "colab_type": "code",
        "colab": {}
      },
      "source": [
        "import pandas as pd\n",
        "from sklearn.preprocessing import StandardScaler\n",
        "from sklearn.model_selection import train_test_split\n",
        "import keras\n",
        "import io\n",
        "#df2 = pd.read_csv(io.BytesIO(uploaded['Filename.csv']))\n",
        "#df = pd.read_csv(io.BytesIO(uploaded['datanew205.csv']))\n",
        "#df = pd.read_csv('/content/gdrive/My Drive/14.csv')\n",
        "#df.head(1)\n",
        "\n",
        "#df['Class'].unique() # 0 = no fraud, 1 = fraudulent\n",
        "\n",
        "#X = df.iloc[:, :-1].values\n",
        "#y = df.iloc[:, -1].values\n",
        "\n",
        "X_train = pd.read_csv('/content/gdrive/My Drive/DL2/4trainX11.csv',header=None)\n",
        "X_test = pd.read_csv('/content/gdrive/My Drive/DL2/4testX11.csv',header=None)\n",
        "y_train = pd.read_csv('/content/gdrive/My Drive/DL2/4trainY11.csv',header=None)\n",
        "y_test = pd.read_csv('/content/gdrive/My Drive/DL2/4testY11.csv',header=None)\n",
        "\n",
        "#X_train, X_test, Y_train, Y_test = train_test_split(X_train, y_train, test_size=0.1, random_state=1)\n",
        "\n",
        "sc = StandardScaler()\n",
        "X_train = sc.fit_transform(X_train)\n",
        "X_test = sc.transform(X_test)\n",
        "\n",
        "from keras.models import Sequential\n",
        "from keras.layers import Dense\n",
        "from keras.layers import Dropout\n",
        "\n",
        "clf = Sequential([\n",
        "    Dense(units=16, kernel_initializer='uniform', input_dim=8, activation='relu'),\n",
        "    Dense(units=18, kernel_initializer='uniform', activation='relu'),\n",
        "    Dropout(0.25),\n",
        "    Dense(20, kernel_initializer='uniform', activation='relu'),\n",
        "    Dense(24, kernel_initializer='uniform', activation='relu'),\n",
        "    Dense(1, kernel_initializer='uniform', activation='sigmoid')\n",
        "])\n",
        "\n",
        "clf.compile(optimizer='adam', loss='binary_crossentropy', metrics=['accuracy'])\n",
        "\n",
        "clf.fit(X_train, y_train, batch_size=50, epochs=5)\n",
        "\n",
        "score = clf.evaluate(X_test, y_test, batch_size=128)\n",
        "print('\\nAnd the Score is ', score[1] * 100, '%')"
      ],
      "execution_count": 0,
      "outputs": []
    }
  ]
}